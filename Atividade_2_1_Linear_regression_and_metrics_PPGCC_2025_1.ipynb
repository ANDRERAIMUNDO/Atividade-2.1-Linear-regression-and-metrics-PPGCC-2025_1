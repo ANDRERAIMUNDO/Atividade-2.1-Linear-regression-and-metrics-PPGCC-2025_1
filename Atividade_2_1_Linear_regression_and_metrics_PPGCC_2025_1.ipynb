{
  "nbformat": 4,
  "nbformat_minor": 0,
  "metadata": {
    "colab": {
      "provenance": [],
      "collapsed_sections": [
        "MOVAuHLBQbhg"
      ],
      "toc_visible": true,
      "authorship_tag": "ABX9TyOMapoZb7Dqi461eX8tkh82",
      "include_colab_link": true
    },
    "kernelspec": {
      "name": "python3",
      "display_name": "Python 3"
    },
    "language_info": {
      "name": "python"
    }
  },
  "cells": [
    {
      "cell_type": "markdown",
      "metadata": {
        "id": "view-in-github",
        "colab_type": "text"
      },
      "source": [
        "<a href=\"https://colab.research.google.com/github/ANDRERAIMUNDO/Atividade-2.1-Linear-regression-and-metrics-PPGCC-2025_1/blob/main/Atividade_2_1_Linear_regression_and_metrics_PPGCC_2025_1.ipynb\" target=\"_parent\"><img src=\"https://colab.research.google.com/assets/colab-badge.svg\" alt=\"Open In Colab\"/></a>"
      ]
    },
    {
      "cell_type": "markdown",
      "source": [
        "Para cada parte da atividade, colocar o comando do problema e fazer uma introdução com figuras, equações e texto contextualizando o problema"
      ],
      "metadata": {
        "id": "1j3mqlOGkT4o"
      }
    },
    {
      "cell_type": "markdown",
      "source": [
        "# Questão A"
      ],
      "metadata": {
        "id": "YKmkXy3_4hmm"
      }
    },
    {
      "cell_type": "markdown",
      "source": [
        "Com o mesmo dataset da Atividade 2, faça boxplots de duas features do dataset,conforme procedimentomostrado em sala. Para cada boxplot calcule:\n",
        "*   Cv\n",
        "*   Curtose\n",
        "*   Skewness\n",
        "*   Mean\n",
        "*   Moda\n",
        "\n",
        "Analise os resultados.\n",
        "Para um desses boxplots, introduza artificialmente outliers e verifique o que ocorre com o boxplot e essas métricas. Não esqueça do contexto sobre o dataset usado, com a explicação sobre ele, suas classes e features."
      ],
      "metadata": {
        "id": "WLMJx_bm4qWR"
      }
    },
    {
      "cell_type": "code",
      "source": [
        "import pandas as pd\n",
        "import numpy as np\n",
        "\n",
        "url = 'https://raw.githubusercontent.com/ANDRERAIMUNDO/data-atividade-2/main/rootcause_success.csv'\n",
        "data = pd.read_csv(url)\n",
        "display(data.head(5))"
      ],
      "metadata": {
        "colab": {
          "base_uri": "https://localhost:8080/",
          "height": 206
        },
        "id": "NmiaTaZT1EzK",
        "outputId": "ce3a1fb5-49e5-4aa0-8a4a-328d522869b1"
      },
      "execution_count": 6,
      "outputs": [
        {
          "output_type": "display_data",
          "data": {
            "text/plain": [
              "                          RootCause  Ocorrencias_anteriores  \\\n",
              "0                  Problema de rede                       4   \n",
              "1  Erro no sistema de monitoramento                       2   \n",
              "2                  Erro de software                       2   \n",
              "3                    Curto-circuito                       1   \n",
              "4          Atualização mal aplicada                       4   \n",
              "\n",
              "   Tempo_medio_resolucao Prioridade_resolucao  \n",
              "0                   3.03                Média  \n",
              "1                   4.60                Média  \n",
              "2                   3.63                Baixa  \n",
              "3                   3.46                Média  \n",
              "4                   4.43                 Alta  "
            ],
            "text/html": [
              "\n",
              "  <div id=\"df-7e0ec437-b5b1-4039-9774-ef5a5098d2b3\" class=\"colab-df-container\">\n",
              "    <div>\n",
              "<style scoped>\n",
              "    .dataframe tbody tr th:only-of-type {\n",
              "        vertical-align: middle;\n",
              "    }\n",
              "\n",
              "    .dataframe tbody tr th {\n",
              "        vertical-align: top;\n",
              "    }\n",
              "\n",
              "    .dataframe thead th {\n",
              "        text-align: right;\n",
              "    }\n",
              "</style>\n",
              "<table border=\"1\" class=\"dataframe\">\n",
              "  <thead>\n",
              "    <tr style=\"text-align: right;\">\n",
              "      <th></th>\n",
              "      <th>RootCause</th>\n",
              "      <th>Ocorrencias_anteriores</th>\n",
              "      <th>Tempo_medio_resolucao</th>\n",
              "      <th>Prioridade_resolucao</th>\n",
              "    </tr>\n",
              "  </thead>\n",
              "  <tbody>\n",
              "    <tr>\n",
              "      <th>0</th>\n",
              "      <td>Problema de rede</td>\n",
              "      <td>4</td>\n",
              "      <td>3.03</td>\n",
              "      <td>Média</td>\n",
              "    </tr>\n",
              "    <tr>\n",
              "      <th>1</th>\n",
              "      <td>Erro no sistema de monitoramento</td>\n",
              "      <td>2</td>\n",
              "      <td>4.60</td>\n",
              "      <td>Média</td>\n",
              "    </tr>\n",
              "    <tr>\n",
              "      <th>2</th>\n",
              "      <td>Erro de software</td>\n",
              "      <td>2</td>\n",
              "      <td>3.63</td>\n",
              "      <td>Baixa</td>\n",
              "    </tr>\n",
              "    <tr>\n",
              "      <th>3</th>\n",
              "      <td>Curto-circuito</td>\n",
              "      <td>1</td>\n",
              "      <td>3.46</td>\n",
              "      <td>Média</td>\n",
              "    </tr>\n",
              "    <tr>\n",
              "      <th>4</th>\n",
              "      <td>Atualização mal aplicada</td>\n",
              "      <td>4</td>\n",
              "      <td>4.43</td>\n",
              "      <td>Alta</td>\n",
              "    </tr>\n",
              "  </tbody>\n",
              "</table>\n",
              "</div>\n",
              "    <div class=\"colab-df-buttons\">\n",
              "\n",
              "  <div class=\"colab-df-container\">\n",
              "    <button class=\"colab-df-convert\" onclick=\"convertToInteractive('df-7e0ec437-b5b1-4039-9774-ef5a5098d2b3')\"\n",
              "            title=\"Convert this dataframe to an interactive table.\"\n",
              "            style=\"display:none;\">\n",
              "\n",
              "  <svg xmlns=\"http://www.w3.org/2000/svg\" height=\"24px\" viewBox=\"0 -960 960 960\">\n",
              "    <path d=\"M120-120v-720h720v720H120Zm60-500h600v-160H180v160Zm220 220h160v-160H400v160Zm0 220h160v-160H400v160ZM180-400h160v-160H180v160Zm440 0h160v-160H620v160ZM180-180h160v-160H180v160Zm440 0h160v-160H620v160Z\"/>\n",
              "  </svg>\n",
              "    </button>\n",
              "\n",
              "  <style>\n",
              "    .colab-df-container {\n",
              "      display:flex;\n",
              "      gap: 12px;\n",
              "    }\n",
              "\n",
              "    .colab-df-convert {\n",
              "      background-color: #E8F0FE;\n",
              "      border: none;\n",
              "      border-radius: 50%;\n",
              "      cursor: pointer;\n",
              "      display: none;\n",
              "      fill: #1967D2;\n",
              "      height: 32px;\n",
              "      padding: 0 0 0 0;\n",
              "      width: 32px;\n",
              "    }\n",
              "\n",
              "    .colab-df-convert:hover {\n",
              "      background-color: #E2EBFA;\n",
              "      box-shadow: 0px 1px 2px rgba(60, 64, 67, 0.3), 0px 1px 3px 1px rgba(60, 64, 67, 0.15);\n",
              "      fill: #174EA6;\n",
              "    }\n",
              "\n",
              "    .colab-df-buttons div {\n",
              "      margin-bottom: 4px;\n",
              "    }\n",
              "\n",
              "    [theme=dark] .colab-df-convert {\n",
              "      background-color: #3B4455;\n",
              "      fill: #D2E3FC;\n",
              "    }\n",
              "\n",
              "    [theme=dark] .colab-df-convert:hover {\n",
              "      background-color: #434B5C;\n",
              "      box-shadow: 0px 1px 3px 1px rgba(0, 0, 0, 0.15);\n",
              "      filter: drop-shadow(0px 1px 2px rgba(0, 0, 0, 0.3));\n",
              "      fill: #FFFFFF;\n",
              "    }\n",
              "  </style>\n",
              "\n",
              "    <script>\n",
              "      const buttonEl =\n",
              "        document.querySelector('#df-7e0ec437-b5b1-4039-9774-ef5a5098d2b3 button.colab-df-convert');\n",
              "      buttonEl.style.display =\n",
              "        google.colab.kernel.accessAllowed ? 'block' : 'none';\n",
              "\n",
              "      async function convertToInteractive(key) {\n",
              "        const element = document.querySelector('#df-7e0ec437-b5b1-4039-9774-ef5a5098d2b3');\n",
              "        const dataTable =\n",
              "          await google.colab.kernel.invokeFunction('convertToInteractive',\n",
              "                                                    [key], {});\n",
              "        if (!dataTable) return;\n",
              "\n",
              "        const docLinkHtml = 'Like what you see? Visit the ' +\n",
              "          '<a target=\"_blank\" href=https://colab.research.google.com/notebooks/data_table.ipynb>data table notebook</a>'\n",
              "          + ' to learn more about interactive tables.';\n",
              "        element.innerHTML = '';\n",
              "        dataTable['output_type'] = 'display_data';\n",
              "        await google.colab.output.renderOutput(dataTable, element);\n",
              "        const docLink = document.createElement('div');\n",
              "        docLink.innerHTML = docLinkHtml;\n",
              "        element.appendChild(docLink);\n",
              "      }\n",
              "    </script>\n",
              "  </div>\n",
              "\n",
              "\n",
              "    <div id=\"df-73b29ce3-e645-45a6-b8bd-4e66e6d727fb\">\n",
              "      <button class=\"colab-df-quickchart\" onclick=\"quickchart('df-73b29ce3-e645-45a6-b8bd-4e66e6d727fb')\"\n",
              "                title=\"Suggest charts\"\n",
              "                style=\"display:none;\">\n",
              "\n",
              "<svg xmlns=\"http://www.w3.org/2000/svg\" height=\"24px\"viewBox=\"0 0 24 24\"\n",
              "     width=\"24px\">\n",
              "    <g>\n",
              "        <path d=\"M19 3H5c-1.1 0-2 .9-2 2v14c0 1.1.9 2 2 2h14c1.1 0 2-.9 2-2V5c0-1.1-.9-2-2-2zM9 17H7v-7h2v7zm4 0h-2V7h2v10zm4 0h-2v-4h2v4z\"/>\n",
              "    </g>\n",
              "</svg>\n",
              "      </button>\n",
              "\n",
              "<style>\n",
              "  .colab-df-quickchart {\n",
              "      --bg-color: #E8F0FE;\n",
              "      --fill-color: #1967D2;\n",
              "      --hover-bg-color: #E2EBFA;\n",
              "      --hover-fill-color: #174EA6;\n",
              "      --disabled-fill-color: #AAA;\n",
              "      --disabled-bg-color: #DDD;\n",
              "  }\n",
              "\n",
              "  [theme=dark] .colab-df-quickchart {\n",
              "      --bg-color: #3B4455;\n",
              "      --fill-color: #D2E3FC;\n",
              "      --hover-bg-color: #434B5C;\n",
              "      --hover-fill-color: #FFFFFF;\n",
              "      --disabled-bg-color: #3B4455;\n",
              "      --disabled-fill-color: #666;\n",
              "  }\n",
              "\n",
              "  .colab-df-quickchart {\n",
              "    background-color: var(--bg-color);\n",
              "    border: none;\n",
              "    border-radius: 50%;\n",
              "    cursor: pointer;\n",
              "    display: none;\n",
              "    fill: var(--fill-color);\n",
              "    height: 32px;\n",
              "    padding: 0;\n",
              "    width: 32px;\n",
              "  }\n",
              "\n",
              "  .colab-df-quickchart:hover {\n",
              "    background-color: var(--hover-bg-color);\n",
              "    box-shadow: 0 1px 2px rgba(60, 64, 67, 0.3), 0 1px 3px 1px rgba(60, 64, 67, 0.15);\n",
              "    fill: var(--button-hover-fill-color);\n",
              "  }\n",
              "\n",
              "  .colab-df-quickchart-complete:disabled,\n",
              "  .colab-df-quickchart-complete:disabled:hover {\n",
              "    background-color: var(--disabled-bg-color);\n",
              "    fill: var(--disabled-fill-color);\n",
              "    box-shadow: none;\n",
              "  }\n",
              "\n",
              "  .colab-df-spinner {\n",
              "    border: 2px solid var(--fill-color);\n",
              "    border-color: transparent;\n",
              "    border-bottom-color: var(--fill-color);\n",
              "    animation:\n",
              "      spin 1s steps(1) infinite;\n",
              "  }\n",
              "\n",
              "  @keyframes spin {\n",
              "    0% {\n",
              "      border-color: transparent;\n",
              "      border-bottom-color: var(--fill-color);\n",
              "      border-left-color: var(--fill-color);\n",
              "    }\n",
              "    20% {\n",
              "      border-color: transparent;\n",
              "      border-left-color: var(--fill-color);\n",
              "      border-top-color: var(--fill-color);\n",
              "    }\n",
              "    30% {\n",
              "      border-color: transparent;\n",
              "      border-left-color: var(--fill-color);\n",
              "      border-top-color: var(--fill-color);\n",
              "      border-right-color: var(--fill-color);\n",
              "    }\n",
              "    40% {\n",
              "      border-color: transparent;\n",
              "      border-right-color: var(--fill-color);\n",
              "      border-top-color: var(--fill-color);\n",
              "    }\n",
              "    60% {\n",
              "      border-color: transparent;\n",
              "      border-right-color: var(--fill-color);\n",
              "    }\n",
              "    80% {\n",
              "      border-color: transparent;\n",
              "      border-right-color: var(--fill-color);\n",
              "      border-bottom-color: var(--fill-color);\n",
              "    }\n",
              "    90% {\n",
              "      border-color: transparent;\n",
              "      border-bottom-color: var(--fill-color);\n",
              "    }\n",
              "  }\n",
              "</style>\n",
              "\n",
              "      <script>\n",
              "        async function quickchart(key) {\n",
              "          const quickchartButtonEl =\n",
              "            document.querySelector('#' + key + ' button');\n",
              "          quickchartButtonEl.disabled = true;  // To prevent multiple clicks.\n",
              "          quickchartButtonEl.classList.add('colab-df-spinner');\n",
              "          try {\n",
              "            const charts = await google.colab.kernel.invokeFunction(\n",
              "                'suggestCharts', [key], {});\n",
              "          } catch (error) {\n",
              "            console.error('Error during call to suggestCharts:', error);\n",
              "          }\n",
              "          quickchartButtonEl.classList.remove('colab-df-spinner');\n",
              "          quickchartButtonEl.classList.add('colab-df-quickchart-complete');\n",
              "        }\n",
              "        (() => {\n",
              "          let quickchartButtonEl =\n",
              "            document.querySelector('#df-73b29ce3-e645-45a6-b8bd-4e66e6d727fb button');\n",
              "          quickchartButtonEl.style.display =\n",
              "            google.colab.kernel.accessAllowed ? 'block' : 'none';\n",
              "        })();\n",
              "      </script>\n",
              "    </div>\n",
              "\n",
              "    </div>\n",
              "  </div>\n"
            ],
            "application/vnd.google.colaboratory.intrinsic+json": {
              "type": "dataframe",
              "summary": "{\n  \"name\": \"display(data\",\n  \"rows\": 5,\n  \"fields\": [\n    {\n      \"column\": \"RootCause\",\n      \"properties\": {\n        \"dtype\": \"string\",\n        \"num_unique_values\": 5,\n        \"samples\": [\n          \"Erro no sistema de monitoramento\",\n          \"Atualiza\\u00e7\\u00e3o mal aplicada\",\n          \"Erro de software\"\n        ],\n        \"semantic_type\": \"\",\n        \"description\": \"\"\n      }\n    },\n    {\n      \"column\": \"Ocorrencias_anteriores\",\n      \"properties\": {\n        \"dtype\": \"number\",\n        \"std\": 1,\n        \"min\": 1,\n        \"max\": 4,\n        \"num_unique_values\": 3,\n        \"samples\": [\n          4,\n          2,\n          1\n        ],\n        \"semantic_type\": \"\",\n        \"description\": \"\"\n      }\n    },\n    {\n      \"column\": \"Tempo_medio_resolucao\",\n      \"properties\": {\n        \"dtype\": \"number\",\n        \"std\": 0.6651691514193964,\n        \"min\": 3.03,\n        \"max\": 4.6,\n        \"num_unique_values\": 5,\n        \"samples\": [\n          4.6,\n          4.43,\n          3.63\n        ],\n        \"semantic_type\": \"\",\n        \"description\": \"\"\n      }\n    },\n    {\n      \"column\": \"Prioridade_resolucao\",\n      \"properties\": {\n        \"dtype\": \"string\",\n        \"num_unique_values\": 3,\n        \"samples\": [\n          \"M\\u00e9dia\",\n          \"Baixa\",\n          \"Alta\"\n        ],\n        \"semantic_type\": \"\",\n        \"description\": \"\"\n      }\n    }\n  ]\n}"
            }
          },
          "metadata": {}
        }
      ]
    },
    {
      "cell_type": "markdown",
      "source": [
        "**Contextualizando:** Este código utiliza o dataset \"rootcause_success\" para analisar duas variáveis quantitativas: \"Ocorrencias_anteriores\" e \"Tempo_medio_resolucao\". Foi introduzido artificialmente outliers no segundo bloco de código para avaliar seu impacto visual e estatístico no conjunto de dados e representação gráfica frente a valores extremos."
      ],
      "metadata": {
        "id": "NQQaQgcg1DcZ"
      }
    },
    {
      "cell_type": "markdown",
      "source": [
        "![image.png](data:image/png;base64,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)"
      ],
      "metadata": {
        "id": "51gSy0Km3stu"
      }
    },
    {
      "cell_type": "markdown",
      "source": [
        "![image.png](data:image/png;base64,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)"
      ],
      "metadata": {
        "id": "WM2_PMBD4G6v"
      }
    },
    {
      "cell_type": "markdown",
      "source": [
        "![image.png](data:image/png;base64,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)"
      ],
      "metadata": {
        "id": "TXPhLoWO4PMH"
      }
    },
    {
      "cell_type": "markdown",
      "source": [
        "![image.png](data:image/png;base64,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)"
      ],
      "metadata": {
        "id": "kMNROC7C5EMy"
      }
    },
    {
      "cell_type": "code",
      "source": [
        "import pandas as pd\n",
        "import numpy as np\n",
        "import matplotlib.pyplot as plt\n",
        "from scipy.stats import kurtosis, skew\n",
        "\n",
        "url = 'https://raw.githubusercontent.com/ANDRERAIMUNDO/data-atividade-2/main/rootcause_success.csv'\n",
        "data = pd.read_csv(url)\n",
        "#A\n",
        "mean_a = np.mean(data['Ocorrencias_anteriores'])#mean\n",
        "std_dev_a = np.std(data['Ocorrencias_anteriores'], ddof=1)\n",
        "moda_a = data['Ocorrencias_anteriores'].mode()[0]\n",
        "cv_a = (std_dev_a/mean_a)*100\n",
        "kurt_a = kurtosis(data['Ocorrencias_anteriores'], fisher=True)#curtose\n",
        "skew_a = skew(data['Ocorrencias_anteriores'])\n",
        "#B\n",
        "mean_b = np.mean(data['Tempo_medio_resolucao'])#mean\n",
        "std_dev_b = np.std(data['Tempo_medio_resolucao'], ddof=1)\n",
        "moda_b = data['Tempo_medio_resolucao'].mode()[0]  #continuous quantitative\n",
        "cv_b = (std_dev_b/mean_b)*100\n",
        "kurt_b = kurtosis(data['Tempo_medio_resolucao'], fisher=True)#curtose\n",
        "skew_b = skew(data['Tempo_medio_resolucao'])\n",
        "\n",
        "data[['Ocorrencias_anteriores', 'Tempo_medio_resolucao']].boxplot()\n",
        "plt.title('Boxplots')\n",
        "plt.show()\n",
        "\n",
        "print(f\"Occurrences\")\n",
        "print(f\"Mean = {mean_a:.1f}\")\n",
        "print(f\"SD = {std_dev_a:.1f}\")\n",
        "print(f\"Mode = {moda_a}\")\n",
        "print(\"----------------\")\n",
        "print(f\"Resolution\")\n",
        "print(f\"Mean = {mean_b:.1f}\")\n",
        "print(f\"SD = {std_dev_b:.1f}\")\n",
        "print(f\"Mode = {moda_b}\")\n",
        "print(\"----------------\")\n",
        "print(f\"CV Occurrences = {cv_a:.2f}%\")\n",
        "print(f\"CV Resolution = {cv_b:.2f}%\")\n",
        "print(f\"Curtose Ocorrencias_anteriores: {kurt_a:.2f}\")\n",
        "print(f\"Curtose Tempo_medio_resolucao: {kurt_b:.2f}\")\n",
        "print(f\"Skewness Ocorrencias_anteriores: {skew_a:.2f}\")\n",
        "print(f\"Skewness Tempo_medio_resolucao: {skew_b:.2f}\")"
      ],
      "metadata": {
        "colab": {
          "base_uri": "https://localhost:8080/",
          "height": 730
        },
        "id": "xhIuQ94LCJy1",
        "outputId": "cf1ea73e-1737-4a0e-e123-f92fb3269598"
      },
      "execution_count": 25,
      "outputs": [
        {
          "output_type": "display_data",
          "data": {
            "text/plain": [
              "<Figure size 640x480 with 1 Axes>"
            ],
            "image/png": "[encoded data removed]"
          },
          "metadata": {}
        },
        {
          "output_type": "stream",
          "name": "stdout",
          "text": [
            "Occurrences\n",
            "Mean = 3.1\n",
            "SD = 1.4\n",
            "Mode = 2\n",
            "----------------\n",
            "Resolution\n",
            "Mean = 3.9\n",
            "SD = 0.7\n",
            "Mode = 3.59\n",
            "----------------\n",
            "CV Occurrences = 45.08%\n",
            "CV Resolution = 16.72%\n",
            "Curtose Ocorrencias_anteriores: -1.33\n",
            "Curtose Tempo_medio_resolucao: -0.09\n",
            "Skewness Ocorrencias_anteriores: -0.05\n",
            "Skewness Tempo_medio_resolucao: 0.06\n"
          ]
        }
      ]
    },
    {
      "cell_type": "markdown",
      "source": [
        "Segundo bloco, introduzido outliers para analise de valores atípicos ou mais extremos."
      ],
      "metadata": {
        "id": "JRCnFP0OdF8O"
      }
    },
    {
      "cell_type": "code",
      "source": [
        "import pandas as pd\n",
        "import numpy as np\n",
        "import matplotlib.pyplot as plt\n",
        "from scipy.stats import kurtosis, skew\n",
        "\n",
        "url = 'https://raw.githubusercontent.com/ANDRERAIMUNDO/data-atividade-2/main/rootcause_success.csv'\n",
        "data = pd.read_csv(url)\n",
        "#A\n",
        "sample_a = np.random.choice(data['Ocorrencias_anteriores'], size=95, replace=True)\n",
        "out_a = [20, 19, 9, 17, 8]\n",
        "outliers_a = np.append(sample_a, out_a)\n",
        "kurt_a = kurtosis(outliers_a, fisher=True)\n",
        "skew_a = skew(outliers_a)\n",
        "#B\n",
        "sample_b = np.random.choice(data['Tempo_medio_resolucao'], size=95, replace=True)\n",
        "out_b = [8, 9, 11, 14, 18]\n",
        "outliers_b = np.append(sample_b, out_b)\n",
        "kurt_b = kurtosis(outliers_b, fisher=True)\n",
        "skew_b = skew(outliers_b)\n",
        "\n",
        "data_aux = pd.DataFrame({'Ocorrencias_anteriores': outliers_a,'Tempo_medio_resolucao': outliers_b})\n",
        "data_aux[['Ocorrencias_anteriores', 'Tempo_medio_resolucao']].boxplot()\n",
        "plt.title('Boxplots com Outliers')\n",
        "plt.show()\n",
        "\n",
        "print(f\"Curtose Ocorrencias_anteriores: {kurt_a:.2f}\")\n",
        "print(f\"Curtose Tempo_medio_resolucao: {kurt_b:.2f}\")\n",
        "print(f\"Skewness Ocorrencias_anteriores: {skew_a:.2f}\")\n",
        "print(f\"Skewness Tempo_medio_resolucao: {skew_b:.2f}\")"
      ],
      "metadata": {
        "colab": {
          "base_uri": "https://localhost:8080/",
          "height": 521
        },
        "id": "-M-urIdw0N3-",
        "outputId": "e6574985-e15e-4dbe-8003-3fba87c56dc0"
      },
      "execution_count": 29,
      "outputs": [
        {
          "output_type": "display_data",
          "data": {
            "text/plain": [
              "<Figure size 640x480 with 1 Axes>"
            ],
            "image/png": "[encoded data removed]"
          },
          "metadata": {}
        },
        {
          "output_type": "stream",
          "name": "stdout",
          "text": [
            "Curtose Ocorrencias_anteriores: 15.29\n",
            "Curtose Tempo_medio_resolucao: 23.58\n",
            "Skewness Ocorrencias_anteriores: 3.57\n",
            "Skewness Tempo_medio_resolucao: 4.51\n"
          ]
        }
      ]
    }
  ]
}